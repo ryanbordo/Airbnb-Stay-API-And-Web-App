{
 "cells": [
  {
   "cell_type": "markdown",
   "id": "bebc3727",
   "metadata": {},
   "source": [
    "# AirBNB Price Analyis"
   ]
  },
  {
   "cell_type": "markdown",
   "id": "ae6e1a06",
   "metadata": {},
   "source": [
    "1. Webscrape AirBNB page to find absolute location of stay\n",
    "2. Convert absolute location to address\n",
    "4. Find estimated rent of the AirBNB\n",
    "5. Infer actual cost of living in the AirBNB unit with expenses\n",
    "6. Compare AirBNB price with estimated price, analyze the AirBNB premium"
   ]
  },
  {
   "cell_type": "markdown",
   "id": "b4405c49",
   "metadata": {},
   "source": [
    "### Imports"
   ]
  },
  {
   "cell_type": "code",
   "execution_count": 235,
   "id": "868f6d18",
   "metadata": {},
   "outputs": [],
   "source": [
    "from selenium import webdriver\n",
    "from selenium.webdriver.common.keys import Keys\n",
    "from selenium.webdriver.firefox.options import Options\n",
    "import pandas as pd\n",
    "import numpy as np\n",
    "import requests\n",
    "import json\n",
    "import time"
   ]
  },
  {
   "cell_type": "markdown",
   "id": "197259d9",
   "metadata": {},
   "source": [
    "### Step 1: Webscraping AirBNB Rental"
   ]
  },
  {
   "cell_type": "code",
   "execution_count": 237,
   "id": "6e3dcbb1",
   "metadata": {},
   "outputs": [
    {
     "data": {
      "text/html": [
       "<div>\n",
       "<style scoped>\n",
       "    .dataframe tbody tr th:only-of-type {\n",
       "        vertical-align: middle;\n",
       "    }\n",
       "\n",
       "    .dataframe tbody tr th {\n",
       "        vertical-align: top;\n",
       "    }\n",
       "\n",
       "    .dataframe thead th {\n",
       "        text-align: right;\n",
       "    }\n",
       "</style>\n",
       "<table border=\"1\" class=\"dataframe\">\n",
       "  <thead>\n",
       "    <tr style=\"text-align: right;\">\n",
       "      <th></th>\n",
       "      <th>state</th>\n",
       "      <th>MedianRent</th>\n",
       "      <th>averageRentZillow</th>\n",
       "    </tr>\n",
       "  </thead>\n",
       "  <tbody>\n",
       "    <tr>\n",
       "      <th>0</th>\n",
       "      <td>Hawaii</td>\n",
       "      <td>1651</td>\n",
       "      <td>2850.0</td>\n",
       "    </tr>\n",
       "    <tr>\n",
       "      <th>1</th>\n",
       "      <td>District of Columbia</td>\n",
       "      <td>1607</td>\n",
       "      <td>NaN</td>\n",
       "    </tr>\n",
       "    <tr>\n",
       "      <th>2</th>\n",
       "      <td>California</td>\n",
       "      <td>1586</td>\n",
       "      <td>3000.0</td>\n",
       "    </tr>\n",
       "    <tr>\n",
       "      <th>3</th>\n",
       "      <td>Maryland</td>\n",
       "      <td>1415</td>\n",
       "      <td>1844.0</td>\n",
       "    </tr>\n",
       "    <tr>\n",
       "      <th>4</th>\n",
       "      <td>New Jersey</td>\n",
       "      <td>1368</td>\n",
       "      <td>2200.0</td>\n",
       "    </tr>\n",
       "  </tbody>\n",
       "</table>\n",
       "</div>"
      ],
      "text/plain": [
       "                  state  MedianRent  averageRentZillow\n",
       "0                Hawaii        1651             2850.0\n",
       "1  District of Columbia        1607                NaN\n",
       "2            California        1586             3000.0\n",
       "3              Maryland        1415             1844.0\n",
       "4            New Jersey        1368             2200.0"
      ]
     },
     "execution_count": 237,
     "metadata": {},
     "output_type": "execute_result"
    }
   ],
   "source": [
    "def getNumbers(w):\n",
    "    nums = \"\"\n",
    "    for c in w:\n",
    "        if (c.isnumeric()):\n",
    "            nums += c\n",
    "    return (w if nums == \"\" else int(nums))\n",
    "state_rent_data = pd.read_csv(\"state_rent_data.csv\")\n",
    "state_rent_data.head()"
   ]
  },
  {
   "cell_type": "code",
   "execution_count": 300,
   "id": "4e7b22ae",
   "metadata": {},
   "outputs": [],
   "source": [
    "options = Options()\n",
    "#options.add_argument(\"-headless\")\n",
    "driver = webdriver.Firefox(options=options)"
   ]
  },
  {
   "cell_type": "code",
   "execution_count": 304,
   "id": "0c88a43c",
   "metadata": {
    "scrolled": true
   },
   "outputs": [
    {
     "name": "stdout",
     "output_type": "stream",
     "text": [
      "$125 per night\n",
      "1 Bedroom, 1 Bathroom\n",
      "38.95735, -77.41617\n"
     ]
    }
   ],
   "source": [
    "listing_url = \"https://www.airbnb.com/rooms/633490307738150521\"\n",
    "driver.get(listing_url)\n",
    "time.sleep(5)\n",
    "info = driver.find_element(\"class name\",\"lgx66tx\").text.split(\"·\")\n",
    "price = getNumbers(driver.find_elements(\"class name\", \"_tyxjp1\")[1].text.strip())\n",
    "map_link, scrollDownHeight = None, 0\n",
    "while not map_link:\n",
    "    try:\n",
    "        map_link = driver.find_element(\"xpath\",\"/html/body/div[5]/div/div/div[1]/div/div[2]/div/div/div/div[1]/main/div/div[1]/div[5]/div/div/div/div[2]/section/div[3]/div[4]/div[2]/div/div/div[16]/div/div[5]/div[2]/a\").get_attribute(\"href\")\n",
    "    except:\n",
    "        scrollDownHeight += 20\n",
    "        driver.execute_script(\"window.scroll(0, \" + str(scrollDownHeight) + \");\")\n",
    "info = [x.strip() for x in info]\n",
    "numGuests, numBr, numBed = (getNumbers(x) for x in info[0:3])\n",
    "numBath = int(np.ceil(float(info[3].split()[0])))\n",
    "lat, lng, spec_char_count = \"\", \"\", 0\n",
    "for c in map_link:\n",
    "    if(c == \"@\" or c == \",\"):\n",
    "        spec_char_count += 1\n",
    "    elif(spec_char_count == 1):\n",
    "        lat += c\n",
    "    elif(spec_char_count == 2):\n",
    "        lng += c\n",
    "    elif(spec_char_count == 3):\n",
    "        break\n",
    "print(\"$\" + str(price), \"per night\")\n",
    "print(str(numBr) + (\" Bedroom, \" if numBr == 1 else (\" Bedrooms, \" if isinstance(numBr,int) else \", \")) + str(numBath) + (\" Bathroom\" if numBath == 1 else \" Bathrooms\"))\n",
    "print(lat,lng,sep = \", \")"
   ]
  },
  {
   "cell_type": "markdown",
   "id": "1c618b9a",
   "metadata": {},
   "source": [
    "### Step 2. Getting AirBNB Address"
   ]
  },
  {
   "cell_type": "code",
   "execution_count": 305,
   "id": "3e892330",
   "metadata": {},
   "outputs": [
    {
     "name": "stdout",
     "output_type": "stream",
     "text": [
      "2323 Dulles Station Blvd, Herndon, VA 20171\n"
     ]
    }
   ],
   "source": [
    "api_token = \"AAPK3a1b443d322b4817bcf976c67026e67aY3eBBi031akgsnQKM7K7YG2EfSTflxsLFa-iuS81KbBhqpVKs8PnIpZiiKTTmuRd\"\n",
    "loc_url = \"https://geocode.arcgis.com/arcgis/rest/services/World/GeocodeServer/reverseGeocode?f=pjson&location=\" + lng + \",\" + lat + \"&token=\" + api_token \n",
    "response = requests.get(loc_url)\n",
    "address_json = response.json()\n",
    "addNum = address_json[\"address\"][\"AddNum\"]\n",
    "street = (address_json[\"address\"][\"Address\"] if addNum == \"\" else address_json[\"address\"][\"Address\"][(len(addNum) + 1):])\n",
    "city = address_json[\"address\"][\"City\"]\n",
    "state = address_json[\"address\"][\"RegionAbbr\"]\n",
    "zipcode = address_json[\"address\"][\"Postal\"]\n",
    "street_address = ((street + \", \") if street != \"\" else \"\") + city + \", \" + state + \" \" + zipcode\n",
    "print((street_address if addNum == \"\" else addNum + \" \" + street_address))"
   ]
  },
  {
   "cell_type": "markdown",
   "id": "e0bca3fe",
   "metadata": {},
   "source": [
    "### Step 3. Getting Associated Estimated Rent"
   ]
  },
  {
   "cell_type": "code",
   "execution_count": 306,
   "id": "a27e9500",
   "metadata": {},
   "outputs": [
    {
     "name": "stdout",
     "output_type": "stream",
     "text": [
      "2190\n"
     ]
    }
   ],
   "source": [
    "driver.get(\"https://app.rentcast.io/app\")\n",
    "elems = {\"Text\":[], \"Element\":[]}\n",
    "for elem in driver.find_elements(\"class name\", \"dropdown-item\"):\n",
    "    elems[elem.get_attribute(\"textContent\")] = elem\n",
    "driver.find_element(\"class name\", \"form-control\").send_keys(address)\n",
    "driver.find_elements(\"class name\", \"dropdown-toggle\")[3].click()\n",
    "elems[\" Apartment \"].click()\n",
    "driver.find_elements(\"class name\", \"dropdown-toggle\")[4].click()\n",
    "bedrooms = \"\"\n",
    "elems[\" \" + (((str(numBr) if numBr < 6 else \"6+\") + (\" Bed\" if numBr == 1 else \" Beds\")) if isinstance(numBr, int) else numBr) + \" \"].click()\n",
    "driver.find_elements(\"class name\", \"dropdown-toggle\")[5].click()\n",
    "elems[\" \" + (str(numBath) if numBath < 4 else \"4+\") + (\" Bath\" if numBath == 1 else \" Baths\") + \" \"].click()\n",
    "driver.find_element(\"class name\", \"btn-primary\").click()\n",
    "time.sleep(3)\n",
    "testAddresses = []\n",
    "if (addNum != \"\"):\n",
    "    for i in range(4):\n",
    "        x = int(np.ceil((i+1)/2) * pow(-1,i))\n",
    "        new_addNum = int(addNum) + x\n",
    "        testAddresses.append(str(new_addNum) + \" \" + street_address)\n",
    "testAddresses.append(street_address)\n",
    "testAddresses.append(city + \", \" + state + \" \" + zipcode)\n",
    "rentEst = None\n",
    "for test_address in testAddresses:\n",
    "    if (rentEst):\n",
    "        break\n",
    "    try:\n",
    "        rentEst = getNumbers(driver.find_element(\"class name\", \"display-3\").get_attribute(\"textContent\"))\n",
    "    except:\n",
    "        driver.find_element(\"class name\", \"form-control\").clear()\n",
    "        driver.find_element(\"class name\", \"form-control\").send_keys(test_address)\n",
    "        driver.find_element(\"class name\", \"btn-primary\").click()\n",
    "        time.sleep(len(testAddresses) + 2)\n",
    "remoteLocation = False\n",
    "if (not rentEst):\n",
    "    rentEst = state_rent_data.loc[state_rent_data[\"state\"] == address_json[\"address\"][\"Region\"]].iloc[0,1]\n",
    "    remoteLocation = True\n",
    "print(rentEst)"
   ]
  },
  {
   "cell_type": "markdown",
   "id": "be5c0309",
   "metadata": {},
   "source": [
    "### 4. Calculate Stay Premium and Host Profits\n"
   ]
  },
  {
   "cell_type": "code",
   "execution_count": 307,
   "id": "0ba9e82e",
   "metadata": {},
   "outputs": [
    {
     "name": "stdout",
     "output_type": "stream",
     "text": [
      "Your daily price: $125\n",
      "Estimated daily host costs: $86.06\n",
      "Estimated stay premium: 145%\n",
      "Estimated daily host profit: $38.94\n"
     ]
    }
   ],
   "source": [
    "utl_avg = 429.33 # from https://www.forbes.com/home-improvement/living/monthly-utility-costs-by-state/\n",
    "dayRentEst = round(((rentEst + utl_avg) * 12 / 365.25),2)\n",
    "premiumPerc = round(price/dayRentEst * 100)\n",
    "hostProfit = round(price - dayRentEst,2)\n",
    "print(\"Your daily price: $\" + str(price))\n",
    "print(\"Estimated daily host costs: $\" + str(dayRentEst))\n",
    "print(\"Estimated stay premium: \" + str(premiumPerc) + \"%\")\n",
    "print(\"Estimated daily host profit: $\" + str(hostProfit))\n",
    "if (remoteLocation):\n",
    "    print(\"Remote location detected: estimates likely to be inaccurate\")"
   ]
  },
  {
   "cell_type": "code",
   "execution_count": null,
   "id": "f14b75b5",
   "metadata": {},
   "outputs": [],
   "source": []
  }
 ],
 "metadata": {
  "kernelspec": {
   "display_name": "Python 3 (ipykernel)",
   "language": "python",
   "name": "python3"
  },
  "language_info": {
   "codemirror_mode": {
    "name": "ipython",
    "version": 3
   },
   "file_extension": ".py",
   "mimetype": "text/x-python",
   "name": "python",
   "nbconvert_exporter": "python",
   "pygments_lexer": "ipython3",
   "version": "3.10.9"
  }
 },
 "nbformat": 4,
 "nbformat_minor": 5
}

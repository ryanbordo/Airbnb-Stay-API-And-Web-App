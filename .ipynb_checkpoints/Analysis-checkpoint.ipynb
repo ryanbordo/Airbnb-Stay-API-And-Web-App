{
 "cells": [
  {
   "cell_type": "markdown",
   "id": "bebc3727",
   "metadata": {},
   "source": [
    "# AirBNB Price Analyis"
   ]
  },
  {
   "cell_type": "markdown",
   "id": "ae6e1a06",
   "metadata": {},
   "source": [
    "1. Webscrape AirBNB page to find absolute location of stay\n",
    "2. Convert absolute location to address\n",
    "3. Search for address on Zillow\n",
    "4. Webscrape Zillow of stay to find Zestimate or actual price\n",
    "5. Compare AirBNB price with Zillow price, analyze the stay premium"
   ]
  },
  {
   "cell_type": "markdown",
   "id": "b4405c49",
   "metadata": {},
   "source": [
    "### Imports"
   ]
  },
  {
   "cell_type": "code",
   "execution_count": 1,
   "id": "868f6d18",
   "metadata": {},
   "outputs": [],
   "source": [
    "from selenium import webdriver\n",
    "from selenium.webdriver.firefox.options import Options\n",
    "import requests\n",
    "from googlesearch import search\n",
    "import json"
   ]
  },
  {
   "cell_type": "markdown",
   "id": "197259d9",
   "metadata": {},
   "source": [
    "### Step 1: Webscraping AirBNB Rental"
   ]
  },
  {
   "cell_type": "code",
   "execution_count": 2,
   "id": "6e3dcbb1",
   "metadata": {},
   "outputs": [],
   "source": [
    "def getNumbers(w):\n",
    "    nums = \"\"\n",
    "    for char in w:\n",
    "        if (char.isnumeric()):\n",
    "            nums += char\n",
    "    return int(nums)"
   ]
  },
  {
   "cell_type": "code",
   "execution_count": null,
   "id": "0c88a43c",
   "metadata": {
    "scrolled": true
   },
   "outputs": [],
   "source": [
    "listing_url = \"https://www.airbnb.com/rooms/633490307738150521\"\n",
    "options = Options()\n",
    "options.add_argument(\"-headless\")\n",
    "driver = webdriver.Firefox(options=options)\n",
    "driver.get(listing_url)\n",
    "driver.execute_script(\"window.scrollTo(0, document.body.scrollHeight);\")\n",
    "elem = driver.find_element(\"id\", \"data-deferred-state\").get_attribute(\"innerHTML\")\n",
    "price, info = None, None\n",
    "while (not price or not info):\n",
    "    try:\n",
    "        price = int(getNumbers(driver.find_elements(\"class name\", \"_tyxjp1\")[1].text.strip()))\n",
    "        info = [getNumbers(_) for _ in driver.find_element(\"class name\",\"lgx66tx\").text.split(\"·\")]\n",
    "    except:\n",
    "        pass\n",
    "numGuests = info[0]\n",
    "numBr = info[1]\n",
    "numBed = info[2]\n",
    "numBath =  info[3]\n",
    "lastChars,lng,lat = \"\",\"\",\"\"\n",
    "i = 0\n",
    "\n",
    "# Basically just advanced String.find()\n",
    "for char in elem:\n",
    "    if (len(lastChars) == 6):\n",
    "        lastChars = lastChars[1:6] + char\n",
    "    else:\n",
    "        lastChars = lastChars + char\n",
    "    if(lastChars == \"\\\"lat\\\":\"):\n",
    "        lat = elem[i+1:i+12]\n",
    "    elif(lastChars == \"\\\"lng\\\":\"):\n",
    "        lng = elem[i+1:i+12]\n",
    "    i+=1\n",
    "while(not lat[len(lat)-1].isnumeric() or not lng[len(lng)-1].isnumeric()):\n",
    "    if(lat[len(lat)-1].isnumeric()):\n",
    "        lng = lng[:len(lng)-1]\n",
    "    else:\n",
    "        lat = lat[:len(lat)-1]\n",
    "\n",
    "print(price, \"per night\")\n",
    "print(numBr,(\"Bedroom,\" if numBr == 1 else \"Bedrooms,\"),numBath,(\"Bathroom\" if numBath == 1 else \"Bathrooms\"))\n",
    "print(lat,lng,sep = \", \")"
   ]
  },
  {
   "cell_type": "markdown",
   "id": "1c618b9a",
   "metadata": {},
   "source": [
    "### Step 2. Getting AirBNB Address"
   ]
  },
  {
   "cell_type": "code",
   "execution_count": 80,
   "id": "3e892330",
   "metadata": {},
   "outputs": [
    {
     "name": "stdout",
     "output_type": "stream",
     "text": [
      "2333 Dulles Station Blvd, Herndon, Virginia, 20171\n"
     ]
    }
   ],
   "source": [
    "api_token = \"AAPK3a1b443d322b4817bcf976c67026e67aY3eBBi031akgsnQKM7K7YG2EfSTflxsLFa-iuS81KbBhqpVKs8PnIpZiiKTTmuRd\"\n",
    "loc_url = \"https://geocode.arcgis.com/arcgis/rest/services/World/GeocodeServer/reverseGeocode?f=pjson&location=\" + lng + \",\" + lat + \"&token=\" + api_token \n",
    "response = requests.get(loc_url)\n",
    "address_json = response.json()\n",
    "address = address_json[\"address\"][\"Address\"] + \", \" + address_json[\"address\"][\"City\"] + \", \" + address_json[\"address\"][\"Region\"] + \", \" + address_json[\"address\"][\"Postal\"]\n",
    "print(address)"
   ]
  },
  {
   "cell_type": "markdown",
   "id": "e0bca3fe",
   "metadata": {},
   "source": [
    "### Step 3. Getting Associated Estimated Value"
   ]
  },
  {
   "cell_type": "code",
   "execution_count": 83,
   "id": "44489bc2",
   "metadata": {
    "scrolled": false
   },
   "outputs": [],
   "source": [
    "sep_address = \"\"\n",
    "for c in address:\n",
    "    if(c == \" \"):\n",
    "        sep_address += \"%\"\n",
    "    elif(c.isalnum()):\n",
    "        sep_address += c\n",
    "headers = {\"accept\": \"application/json\"}\n",
    "headers = {\n",
    "    \"accept\": \"application/json\",\n",
    "    \"X-Api-Key\": \"949de555f3764976819af8d1e1dd6dbc\"\n",
    "}\n",
    "property_url = \"https://api.rentcast.io/v1/properties?address=\" + sep_address\n",
    "response = requests.get(property_url, headers=headers)"
   ]
  },
  {
   "cell_type": "code",
   "execution_count": 85,
   "id": "44b1f725",
   "metadata": {},
   "outputs": [
    {
     "ename": "KeyError",
     "evalue": "'propertyType'",
     "output_type": "error",
     "traceback": [
      "\u001b[1;31m---------------------------------------------------------------------------\u001b[0m",
      "\u001b[1;31mKeyError\u001b[0m                                  Traceback (most recent call last)",
      "Cell \u001b[1;32mIn[85], line 2\u001b[0m\n\u001b[0;32m      1\u001b[0m sep_property_type \u001b[38;5;241m=\u001b[39m \u001b[38;5;124m\"\u001b[39m\u001b[38;5;124m\"\u001b[39m\n\u001b[1;32m----> 2\u001b[0m \u001b[38;5;28;01mif\u001b[39;00m(\u001b[43mresponse\u001b[49m\u001b[38;5;241;43m.\u001b[39;49m\u001b[43mjson\u001b[49m\u001b[43m(\u001b[49m\u001b[43m)\u001b[49m\u001b[43m[\u001b[49m\u001b[38;5;124;43m\"\u001b[39;49m\u001b[38;5;124;43mpropertyType\u001b[39;49m\u001b[38;5;124;43m\"\u001b[39;49m\u001b[43m]\u001b[49m):\n\u001b[0;32m      3\u001b[0m     \u001b[38;5;28;01mfor\u001b[39;00m c \u001b[38;5;129;01min\u001b[39;00m response\u001b[38;5;241m.\u001b[39mjson()[\u001b[38;5;124m\"\u001b[39m\u001b[38;5;124mpropertyType\u001b[39m\u001b[38;5;124m\"\u001b[39m]:\n\u001b[0;32m      4\u001b[0m         \u001b[38;5;28;01mif\u001b[39;00m(c \u001b[38;5;241m==\u001b[39m \u001b[38;5;124m\"\u001b[39m\u001b[38;5;124m \u001b[39m\u001b[38;5;124m\"\u001b[39m):\n",
      "\u001b[1;31mKeyError\u001b[0m: 'propertyType'"
     ]
    }
   ],
   "source": [
    "sep_property_type = \"\"\n",
    "if(response.json()[\"propertyType\"]):\n",
    "    for c in response.json()[\"propertyType\"]:\n",
    "        if(c == \" \"):\n",
    "            sep_address += \"%\"\n",
    "        elif(c.isalnum()):\n",
    "            sep_address += c\n",
    "else:\n",
    "    sep_property_type = \"Apartment\""
   ]
  },
  {
   "cell_type": "code",
   "execution_count": 86,
   "id": "6ebd4235",
   "metadata": {},
   "outputs": [],
   "source": [
    "est_url = \"https://api.rentcast.io/v1/avm/rent/long-term?address=\" + sep_address + \"&propertyType=\" + sep_property_type + \"&bedrooms=\" + str(numBr) + \"&bathrooms=\" + str(numBath)\n",
    "response = requests.get(est_url, headers=headers)"
   ]
  },
  {
   "cell_type": "code",
   "execution_count": 92,
   "id": "4e310535",
   "metadata": {},
   "outputs": [],
   "source": [
    "rentEst = int(response.json()[\"rent\"])\n",
    "dayRentEst = round((rentEst / (365.25/12)),2)\n",
    "premiumPerc = round(price/dayRentEst * 100)"
   ]
  },
  {
   "cell_type": "code",
   "execution_count": 93,
   "id": "04b4f2b8",
   "metadata": {},
   "outputs": [
    {
     "name": "stdout",
     "output_type": "stream",
     "text": [
      "The estimated rent per day is: $70.64\n",
      "The actual AirBNB cost per day is: $125\n",
      "Therefore, AirBNB is charging a 177% premium\n"
     ]
    }
   ],
   "source": [
    "print(\"The estimated rent per day is: $\" + str(dayRentEst))\n",
    "print(\"The actual AirBNB cost per day is: $\" + str(price))\n",
    "print(\"Therefore, AirBNB is charging a \" + str(premiumPerc) + \"% premium\")"
   ]
  },
  {
   "cell_type": "code",
   "execution_count": null,
   "id": "a27e9500",
   "metadata": {},
   "outputs": [],
   "source": []
  }
 ],
 "metadata": {
  "kernelspec": {
   "display_name": "Python 3 (ipykernel)",
   "language": "python",
   "name": "python3"
  },
  "language_info": {
   "codemirror_mode": {
    "name": "ipython",
    "version": 3
   },
   "file_extension": ".py",
   "mimetype": "text/x-python",
   "name": "python",
   "nbconvert_exporter": "python",
   "pygments_lexer": "ipython3",
   "version": "3.10.9"
  }
 },
 "nbformat": 4,
 "nbformat_minor": 5
}

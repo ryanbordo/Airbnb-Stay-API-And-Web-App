{
 "cells": [
  {
   "cell_type": "markdown",
   "id": "bebc3727",
   "metadata": {},
   "source": [
    "# AirBNB Price Analyis"
   ]
  },
  {
   "cell_type": "markdown",
   "id": "ae6e1a06",
   "metadata": {},
   "source": [
    "1. Webscrape AirBNB page to find absolute location of stay\n",
    "2. Convert absolute location to address\n",
    "3. Search for address on Zillow\n",
    "4. Webscrape Zillow of stay to find Zestimate or actual price\n",
    "5. Compare AirBNB price with Zillow price, analyze the stay premium"
   ]
  },
  {
   "cell_type": "markdown",
   "id": "b4405c49",
   "metadata": {},
   "source": [
    "### Imports"
   ]
  },
  {
   "cell_type": "code",
   "execution_count": 2,
   "id": "868f6d18",
   "metadata": {},
   "outputs": [],
   "source": [
    "from selenium import webdriver\n",
    "from selenium.webdriver.firefox.options import Options"
   ]
  },
  {
   "cell_type": "code",
   "execution_count": 50,
   "id": "6e3dcbb1",
   "metadata": {},
   "outputs": [],
   "source": [
    "listing_url = \"https://www.airbnb.com/rooms/28341203?adults=1&category_tag=Tag%3A8144&children=0&enable_m3_private_room=true&infants=0&pets=0&search_mode=flex_destinations_search&check_in=2023-09-17&check_out=2023-09-24&federated_search_id=2c1f0a2d-fef8-400c-b677-924563f5d94e&source_impression_id=p3_1684780604_cZPiIg0jp%2FKyjF66\"\n",
    "options = Options()\n",
    "options.add_argument(\"-headless\")\n",
    "driver = webdriver.Firefox(options=options)\n",
    "driver.get(listing_url)\n",
    "driver.execute_script(\"window.scrollTo(0, document.body.scrollHeight);\")"
   ]
  },
  {
   "cell_type": "code",
   "execution_count": 51,
   "id": "0c88a43c",
   "metadata": {
    "scrolled": true
   },
   "outputs": [
    {
     "name": "stdout",
     "output_type": "stream",
     "text": [
      "43.3323, -76.7289\n",
      "$145 per night\n"
     ]
    }
   ],
   "source": [
    "elem = driver.find_element(\"id\", \"data-deferred-state\").get_attribute(\"innerHTML\")\n",
    "price = driver.find_elements(\"class name\", \"_tyxjp1\")[1].text.strip()\n",
    "lastChars,lng,lat = \"\",\"\",\"\"\n",
    "i = 0\n",
    "for char in elem:\n",
    "    if (len(lastChars) == 6):\n",
    "        lastChars = lastChars[1:6] + char\n",
    "    else:\n",
    "        lastChars = lastChars + char\n",
    "    if(lastChars == \"\\\"lat\\\":\"):\n",
    "        lat = elem[i+1:i+12]\n",
    "    elif(lastChars == \"\\\"lng\\\":\"):\n",
    "        lng = elem[i+1:i+12]\n",
    "    i = i + 1\n",
    "while(not lat[len(lat)-1].isnumeric() or not lng[len(lng)-1].isnumeric()):\n",
    "    if(lat[len(lat)-1].isnumeric()):\n",
    "        lng = lng[:len(lng)-1]\n",
    "    else:\n",
    "        lat = lat[:len(lat)-1]\n",
    "print(lat,lng,sep = \", \")\n",
    "print(price, \"per night\")"
   ]
  },
  {
   "cell_type": "code",
   "execution_count": null,
   "id": "8a5ef20b",
   "metadata": {},
   "outputs": [],
   "source": []
  },
  {
   "cell_type": "code",
   "execution_count": null,
   "id": "315503a3",
   "metadata": {},
   "outputs": [],
   "source": []
  }
 ],
 "metadata": {
  "kernelspec": {
   "display_name": "Python 3 (ipykernel)",
   "language": "python",
   "name": "python3"
  },
  "language_info": {
   "codemirror_mode": {
    "name": "ipython",
    "version": 3
   },
   "file_extension": ".py",
   "mimetype": "text/x-python",
   "name": "python",
   "nbconvert_exporter": "python",
   "pygments_lexer": "ipython3",
   "version": "3.9.13"
  }
 },
 "nbformat": 4,
 "nbformat_minor": 5
}

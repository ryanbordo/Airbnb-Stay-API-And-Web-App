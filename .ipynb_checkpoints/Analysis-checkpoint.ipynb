{
 "cells": [
  {
   "cell_type": "markdown",
   "id": "bebc3727",
   "metadata": {},
   "source": [
    "# AirBNB Price Analyis"
   ]
  },
  {
   "cell_type": "markdown",
   "id": "ae6e1a06",
   "metadata": {},
   "source": [
    "1. Webscrape AirBNB page to find absolute location of stay\n",
    "2. Convert absolute location to address\n",
    "3. Search for address on Zillow\n",
    "4. Webscrape Zillow of stay to find Zestimate or actual price\n",
    "5. Compare AirBNB price with Zillow price, analyze the stay premium"
   ]
  },
  {
   "cell_type": "markdown",
   "id": "b4405c49",
   "metadata": {},
   "source": [
    "### Imports"
   ]
  },
  {
   "cell_type": "code",
   "execution_count": 85,
   "id": "868f6d18",
   "metadata": {},
   "outputs": [],
   "source": [
    "from selenium import webdriver\n",
    "from selenium.webdriver.firefox.options import Options\n",
    "import time\n",
    "from googlesearch import search"
   ]
  },
  {
   "cell_type": "markdown",
   "id": "197259d9",
   "metadata": {},
   "source": [
    "### Step 1: Webscraping AirBNB Rental"
   ]
  },
  {
   "cell_type": "code",
   "execution_count": 110,
   "id": "6e3dcbb1",
   "metadata": {},
   "outputs": [],
   "source": [
    "listing_url = \"https://www.airbnb.com/rooms/633490307738150521\"\n",
    "options = Options()\n",
    "#options.add_argument(\"-headless\")\n",
    "driver = webdriver.Firefox(options=options)\n",
    "driver.get(listing_url)\n",
    "driver.execute_script(\"window.scrollTo(0, document.body.scrollHeight);\")"
   ]
  },
  {
   "cell_type": "code",
   "execution_count": 105,
   "id": "0c88a43c",
   "metadata": {
    "scrolled": true
   },
   "outputs": [
    {
     "name": "stdout",
     "output_type": "stream",
     "text": [
      "$109 per night\n",
      "1 Bedroom, 1 Bathroom\n",
      "38.95711, -77.41784\n"
     ]
    }
   ],
   "source": [
    "def getNumbers(w):\n",
    "    nums = \"\"\n",
    "    for char in w:\n",
    "        if (char.isnumeric()):\n",
    "            nums += char\n",
    "    return int(nums)\n",
    "\n",
    "elem = driver.find_element(\"id\", \"data-deferred-state\").get_attribute(\"innerHTML\")\n",
    "price, info\n",
    "while (not price or not info):\n",
    "    try:\n",
    "        price = driver.find_elements(\"class name\", \"_tyxjp1\")[1].text.strip()\n",
    "        info = [getNumbers(_) for _ in driver.find_element(\"class name\",\"lgx66tx\").text.split(\"·\")]\n",
    "    except:\n",
    "        pass\n",
    "numGuests = info[0]\n",
    "numBr = info[1]\n",
    "numBed = info[2]\n",
    "numBath =  info[3]\n",
    "lastChars,lng,lat = \"\",\"\",\"\"\n",
    "i = 0\n",
    "for char in elem:\n",
    "    if (len(lastChars) == 6):\n",
    "        lastChars = lastChars[1:6] + char\n",
    "    else:\n",
    "        lastChars = lastChars + char\n",
    "    if(lastChars == \"\\\"lat\\\":\"):\n",
    "        lat = elem[i+1:i+12]\n",
    "    elif(lastChars == \"\\\"lng\\\":\"):\n",
    "        lng = elem[i+1:i+12]\n",
    "    i+=1\n",
    "while(not lat[len(lat)-1].isnumeric() or not lng[len(lng)-1].isnumeric()):\n",
    "    if(lat[len(lat)-1].isnumeric()):\n",
    "        lng = lng[:len(lng)-1]\n",
    "    else:\n",
    "        lat = lat[:len(lat)-1]\n",
    "\n",
    "print(price, \"per night\")\n",
    "print(numBr,(\"Bedroom,\" if numBr == 1 else \"Bedrooms,\"),numBath,(\"Bathroom\" if numBath == 1 else \"Bathrooms\"))\n",
    "print(lat,lng,sep = \", \")"
   ]
  },
  {
   "cell_type": "markdown",
   "id": "1c618b9a",
   "metadata": {},
   "source": [
    "### Step 2. Getting AirBNB Address"
   ]
  },
  {
   "cell_type": "code",
   "execution_count": null,
   "id": "8a5ef20b",
   "metadata": {},
   "outputs": [],
   "source": [
    "driver.get(\"https://www.gps-coordinates.net/gps-coordinates-converter\")\n",
    "latElem = driver.find_element(\"id\",\"latitude\")\n",
    "lngElem = driver.find_element(\"id\",\"longitude\")\n",
    "latElem.clear()\n",
    "latElem.send_keys(lat)\n",
    "lngElem.clear()\n",
    "lngElem.send_keys(lng)\n",
    "addresses = driver.find_element(\"id\",\"address\").get_attribute(\"value\")\n",
    "address = addresses\n",
    "i = 0\n",
    "for char in addresses:\n",
    "    if(char == \"–\" or char == \"-\"):\n",
    "        address = addresses[i+1:]\n",
    "        break\n",
    "    i+=1\n",
    "print(address)"
   ]
  },
  {
   "cell_type": "markdown",
   "id": "e0bca3fe",
   "metadata": {},
   "source": [
    "### Step 3. Getting Associated Zillow Webpage"
   ]
  },
  {
   "cell_type": "code",
   "execution_count": 84,
   "id": "48597d2e",
   "metadata": {},
   "outputs": [],
   "source": [
    "results = []\n",
    "for result in search(address + \"zillow\", num_results = 3):\n",
    "    results.append(result)\n",
    "driver.get(results[0])\n"
   ]
  },
  {
   "cell_type": "code",
   "execution_count": null,
   "id": "3e892330",
   "metadata": {},
   "outputs": [],
   "source": []
  }
 ],
 "metadata": {
  "kernelspec": {
   "display_name": "Python 3 (ipykernel)",
   "language": "python",
   "name": "python3"
  },
  "language_info": {
   "codemirror_mode": {
    "name": "ipython",
    "version": 3
   },
   "file_extension": ".py",
   "mimetype": "text/x-python",
   "name": "python",
   "nbconvert_exporter": "python",
   "pygments_lexer": "ipython3",
   "version": "3.10.9"
  }
 },
 "nbformat": 4,
 "nbformat_minor": 5
}

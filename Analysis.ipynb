{
 "cells": [
  {
   "cell_type": "markdown",
   "id": "bebc3727",
   "metadata": {},
   "source": [
    "# AirBNB Price Analyis"
   ]
  },
  {
   "cell_type": "markdown",
   "id": "ae6e1a06",
   "metadata": {},
   "source": [
    "1. Webscrape AirBNB page to find absolute location of stay\n",
    "2. Convert absolute location to address\n",
    "4. Find estimated rent of the AirBNB\n",
    "5. Infer actual cost of living in the AirBNB unit with expenses\n",
    "6. Compare AirBNB price with estimated price, analyze the AirBNB premium"
   ]
  },
  {
   "cell_type": "markdown",
   "id": "b4405c49",
   "metadata": {},
   "source": [
    "### Imports"
   ]
  },
  {
   "cell_type": "code",
   "execution_count": 2,
   "id": "868f6d18",
   "metadata": {},
   "outputs": [],
   "source": [
    "from selenium import webdriver\n",
    "from selenium.webdriver.firefox.options import Options\n",
    "import requests\n",
    "import json\n",
    "import time"
   ]
  },
  {
   "cell_type": "markdown",
   "id": "197259d9",
   "metadata": {},
   "source": [
    "### Step 1: Webscraping AirBNB Rental"
   ]
  },
  {
   "cell_type": "code",
   "execution_count": 3,
   "id": "6e3dcbb1",
   "metadata": {},
   "outputs": [],
   "source": [
    "def getNumbers(w):\n",
    "    nums = \"\"\n",
    "    for char in w:\n",
    "        if (char.isnumeric()):\n",
    "            nums += char\n",
    "    return int(nums)"
   ]
  },
  {
   "cell_type": "code",
   "execution_count": 27,
   "id": "4e7b22ae",
   "metadata": {},
   "outputs": [],
   "source": [
    "options = Options()\n",
    "options.add_argument(\"-headless\")\n",
    "driver = webdriver.Firefox(options=options)"
   ]
  },
  {
   "cell_type": "code",
   "execution_count": 20,
   "id": "0c88a43c",
   "metadata": {
    "scrolled": true
   },
   "outputs": [
    {
     "name": "stdout",
     "output_type": "stream",
     "text": [
      "$117 per night\n",
      "1 Bedroom, 1 Bathroom\n",
      "38.97049, -77.00785\n"
     ]
    }
   ],
   "source": [
    "listing_url = \"https://www.airbnb.com/rooms/39446397\"\n",
    "driver.get(listing_url)\n",
    "price, info, data = None, None, None\n",
    "while (not price or not info or not data):\n",
    "    try:\n",
    "        time.sleep(1)\n",
    "        data = driver.find_element(\"id\", \"data-deferred-state\").get_attribute(\"innerHTML\")\n",
    "        price = int(getNumbers(driver.find_elements(\"class name\", \"_tyxjp1\")[1].text.strip()))\n",
    "        info = [getNumbers(_) for _ in driver.find_element(\"class name\",\"lgx66tx\").text.split(\"·\")]\n",
    "    except:\n",
    "        newHeight = driver.execute_script(\"return document.documentElement.scrollHeight\") + 50\n",
    "        driver.execute_script(\"window.scroll(0, \" + str(newHeight) + \");\")\n",
    "numGuests = info[0]\n",
    "numBr = info[1]\n",
    "numBed = info[2]\n",
    "numBath =  info[3]\n",
    "lastChars,lng,lat = \"\",\"\",\"\"\n",
    "i = 0\n",
    "\n",
    "# Basically just advanced String.find()\n",
    "for char in data:\n",
    "    if (len(lastChars) == 6):\n",
    "        lastChars = lastChars[1:6] + char\n",
    "    else:\n",
    "        lastChars = lastChars + char\n",
    "    if(lastChars == \"\\\"lat\\\":\"):\n",
    "        lat = data[i+1:i+12]\n",
    "    elif(lastChars == \"\\\"lng\\\":\"):\n",
    "        lng = data[i+1:i+12]\n",
    "    i+=1\n",
    "while(not lat[len(lat)-1].isnumeric() or not lng[len(lng)-1].isnumeric()):\n",
    "    if(lat[len(lat)-1].isnumeric()):\n",
    "        lng = lng[:len(lng)-1]\n",
    "    else:\n",
    "        lat = lat[:len(lat)-1]\n",
    "print(\"$\" + str(price), \"per night\")\n",
    "print(numBr,(\"Bedroom,\" if numBr == 1 else \"Bedrooms,\"),numBath,(\"Bathroom\" if numBath == 1 else \"Bathrooms\"))\n",
    "print(lat,lng,sep = \", \")"
   ]
  },
  {
   "cell_type": "markdown",
   "id": "1c618b9a",
   "metadata": {},
   "source": [
    "### Step 2. Getting AirBNB Address"
   ]
  },
  {
   "cell_type": "code",
   "execution_count": 21,
   "id": "3e892330",
   "metadata": {},
   "outputs": [
    {
     "name": "stdout",
     "output_type": "stream",
     "text": [
      "6617 Eastern Ave, Takoma Park, Maryland, 20912\n"
     ]
    }
   ],
   "source": [
    "api_token = \"AAPK3a1b443d322b4817bcf976c67026e67aY3eBBi031akgsnQKM7K7YG2EfSTflxsLFa-iuS81KbBhqpVKs8PnIpZiiKTTmuRd\"\n",
    "loc_url = \"https://geocode.arcgis.com/arcgis/rest/services/World/GeocodeServer/reverseGeocode?f=pjson&location=\" + lng + \",\" + lat + \"&token=\" + api_token \n",
    "response = requests.get(loc_url)\n",
    "address_json = response.json()\n",
    "address = address_json[\"address\"][\"Address\"] + \", \" + address_json[\"address\"][\"City\"] + \", \" + address_json[\"address\"][\"Region\"] + \", \" + address_json[\"address\"][\"Postal\"]\n",
    "print(address)"
   ]
  },
  {
   "cell_type": "markdown",
   "id": "e0bca3fe",
   "metadata": {},
   "source": [
    "### Step 3. Getting Associated Estimated Rent"
   ]
  },
  {
   "cell_type": "code",
   "execution_count": 22,
   "id": "44489bc2",
   "metadata": {
    "scrolled": false
   },
   "outputs": [],
   "source": [
    "sep_address = \"\"\n",
    "for c in address:\n",
    "    if(c == \" \"):\n",
    "        sep_address += \"%\"\n",
    "    elif(c.isalnum()):\n",
    "        sep_address += c\n",
    "headers = {\"accept\": \"application/json\"}\n",
    "headers = {\n",
    "    \"accept\": \"application/json\",\n",
    "    \"X-Api-Key\": \"949de555f3764976819af8d1e1dd6dbc\"\n",
    "}\n",
    "property_url = \"https://api.rentcast.io/v1/properties?address=\" + sep_address\n",
    "response = requests.get(property_url, headers=headers)"
   ]
  },
  {
   "cell_type": "code",
   "execution_count": 23,
   "id": "44b1f725",
   "metadata": {},
   "outputs": [
    {
     "name": "stdout",
     "output_type": "stream",
     "text": [
      "Apartment\n"
     ]
    }
   ],
   "source": [
    "propertyType = \"Apartment\"\n",
    "try:\n",
    "    propertyType = response.json()[\"propertyType\"]\n",
    "except:\n",
    "    pass\n",
    "sep_property_type = \"\"\n",
    "for c in propertyType:\n",
    "    if(c == \" \"):\n",
    "        sep_property_type += \"%\"\n",
    "    elif(c.isalnum()):\n",
    "        sep_property_type += c\n",
    "print(sep_property_type)"
   ]
  },
  {
   "cell_type": "code",
   "execution_count": 28,
   "id": "a27e9500",
   "metadata": {},
   "outputs": [
    {
     "name": "stdout",
     "output_type": "stream",
     "text": [
      "2070\n"
     ]
    }
   ],
   "source": [
    "driver.get(\"https://app.rentcast.io/app\")\n",
    "elems = {\"Text\":[], \"Element\":[]}\n",
    "for elem in driver.find_elements(\"class name\", \"dropdown-item\"):\n",
    "    elems[elem.get_attribute(\"textContent\")] = elem\n",
    "driver.find_element(\"class name\", \"form-control\").send_keys(address)\n",
    "driver.find_elements(\"class name\", \"dropdown-toggle\")[3].click()\n",
    "elems[\" \" + propertyType + \" \"].click()\n",
    "driver.find_elements(\"class name\", \"dropdown-toggle\")[4].click()\n",
    "elems[\" \" + (str(numBr) if numBr < 6 else \"6+\") + (\" Bed\" if numBr == 1 else \" Beds\") + \" \"].click()\n",
    "driver.find_elements(\"class name\", \"dropdown-toggle\")[5].click()\n",
    "elems[\" \" + (str(numBath) if numBath < 4 else \"4+\") + (\" Bath\" if numBath == 1 else \" Baths\") + \" \"].click()\n",
    "driver.find_element(\"class name\", \"btn-primary\").click()\n",
    "rentEst = getNumbers(driver.find_element(\"class name\", \"display-3\").get_attribute(\"textContent\"))\n",
    "print(rentEst)"
   ]
  },
  {
   "cell_type": "markdown",
   "id": "68a8b222",
   "metadata": {},
   "source": [
    "### 4. Infer actual cost of living in the AirBNB unit\n"
   ]
  },
  {
   "cell_type": "code",
   "execution_count": null,
   "id": "39399b89",
   "metadata": {},
   "outputs": [],
   "source": []
  },
  {
   "cell_type": "markdown",
   "id": "be5c0309",
   "metadata": {},
   "source": [
    "### 5. Infer actual cost of living in the AirBNB unit\n"
   ]
  },
  {
   "cell_type": "code",
   "execution_count": 30,
   "id": "0ba9e82e",
   "metadata": {},
   "outputs": [
    {
     "name": "stdout",
     "output_type": "stream",
     "text": [
      "172\n"
     ]
    }
   ],
   "source": [
    "dayRentEst = round((rentEst / (365.25/12)),2)\n",
    "premiumPerc = round(price/dayRentEst * 100)\n",
    "print(premiumPerc)"
   ]
  }
 ],
 "metadata": {
  "kernelspec": {
   "display_name": "Python 3 (ipykernel)",
   "language": "python",
   "name": "python3"
  },
  "language_info": {
   "codemirror_mode": {
    "name": "ipython",
    "version": 3
   },
   "file_extension": ".py",
   "mimetype": "text/x-python",
   "name": "python",
   "nbconvert_exporter": "python",
   "pygments_lexer": "ipython3",
   "version": "3.10.9"
  }
 },
 "nbformat": 4,
 "nbformat_minor": 5
}

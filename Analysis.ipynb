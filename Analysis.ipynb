{
 "cells": [
  {
   "cell_type": "markdown",
   "id": "bebc3727",
   "metadata": {},
   "source": [
    "# Airbnb Price Analyis"
   ]
  },
  {
   "cell_type": "markdown",
   "id": "ae6e1a06",
   "metadata": {},
   "source": [
    "1. Webscrape Airbnb page to find absolute location of stay\n",
    "2. Convert absolute location to address\n",
    "4. Find estimated rent of the AirBNB\n",
    "6. Compare Airbnb price with estimated price after utilities, analyze the Airbnb premium"
   ]
  },
  {
   "cell_type": "markdown",
   "id": "b4405c49",
   "metadata": {},
   "source": [
    "### Imports"
   ]
  },
  {
   "cell_type": "code",
   "execution_count": 67,
   "id": "868f6d18",
   "metadata": {},
   "outputs": [],
   "source": [
    "from selenium import webdriver\n",
    "from selenium.webdriver.common.keys import Keys\n",
    "from selenium.webdriver.firefox.options import Options\n",
    "from dotenv import load_dotenv\n",
    "import os\n",
    "import pandas as pd\n",
    "import numpy as np\n",
    "import requests\n",
    "import json\n",
    "import time\n",
    "from googlesearch import search"
   ]
  },
  {
   "cell_type": "code",
   "execution_count": 30,
   "id": "6e3dcbb1",
   "metadata": {},
   "outputs": [],
   "source": [
    "load_dotenv()\n",
    "\n",
    "def get_numbers(w):\n",
    "    nums = \"\"\n",
    "    for c in w:\n",
    "        if (c.isnumeric()):\n",
    "            nums += c\n",
    "    return (w if nums == \"\" else int(nums))"
   ]
  },
  {
   "cell_type": "markdown",
   "id": "197259d9",
   "metadata": {},
   "source": [
    "### Step 1: Webscraping AirBNB Rental"
   ]
  },
  {
   "cell_type": "code",
   "execution_count": 48,
   "id": "4e7b22ae",
   "metadata": {},
   "outputs": [],
   "source": [
    "options = Options()\n",
    "options.add_argument(\"-headless\")\n",
    "driver = webdriver.Firefox(options=options)"
   ]
  },
  {
   "cell_type": "code",
   "execution_count": 60,
   "id": "0c88a43c",
   "metadata": {
    "scrolled": true
   },
   "outputs": [
    {
     "name": "stdout",
     "output_type": "stream",
     "text": [
      "$285 per night\n",
      "3 Bedrooms, 3 Bathrooms\n",
      "39.50307, -79.3141\n"
     ]
    }
   ],
   "source": [
    "# Enter an Airbnb link\n",
    "listing_url = \"https://www.airbnb.com/rooms/22015858\"\n",
    "driver.get(listing_url)\n",
    "time.sleep(5)\n",
    "info = driver.find_element(\"class name\",\"lgx66tx\").text.split(\"·\")\n",
    "price = get_numbers(driver.find_elements(\"class name\", \"_tyxjp1\")[1].text.strip())\n",
    "map_link, scroll_down_height = None, 0\n",
    "while not map_link:\n",
    "    try:\n",
    "        map_link = driver.find_element(\"xpath\",\"/html/body/div[5]/div/div/div[1]/div/div[2]/div/div/div/div[1]/main/div/div[1]/div[5]/div/div/div/div[2]/section/div[3]/div[4]/div[2]/div/div/div[16]/div/div[5]/div[2]/a\").get_attribute(\"href\")\n",
    "    except:\n",
    "        scroll_down_height += 20\n",
    "        driver.execute_script(\"window.scroll(0, \" + str(scroll_down_height) + \");\")\n",
    "info = [x.strip() for x in info]\n",
    "num_guests, num_br, num_bed = (get_numbers(x) for x in info[0:3])\n",
    "num_bath = int(np.ceil(float(info[3].split()[0])))\n",
    "lat, lng, spec_char_count = \"\", \"\", 0\n",
    "for c in map_link:\n",
    "    if(c == \"@\" or c == \",\"):\n",
    "        spec_char_count += 1\n",
    "    elif(spec_char_count == 1):\n",
    "        lat += c\n",
    "    elif(spec_char_count == 2):\n",
    "        lng += c\n",
    "    elif(spec_char_count == 3):\n",
    "        break\n",
    "print(\"$\" + str(price), \"per night\")\n",
    "print(str(num_br) + (\" Bedroom, \" if num_br == 1 else (\" Bedrooms, \" if isinstance(num_br,int) else \", \")) + str(num_bath) + (\" Bathroom\" if num_bath == 1 else \" Bathrooms\"))\n",
    "print(lat,lng,sep = \", \")"
   ]
  },
  {
   "cell_type": "markdown",
   "id": "1c618b9a",
   "metadata": {},
   "source": [
    "### Step 2. Getting AirBNB Address"
   ]
  },
  {
   "cell_type": "code",
   "execution_count": 61,
   "id": "3e892330",
   "metadata": {},
   "outputs": [
    {
     "name": "stdout",
     "output_type": "stream",
     "text": [
      "788 Glendale Rd, Oakland, MD 21550\n"
     ]
    }
   ],
   "source": [
    "loc_url = \"https://geocode.arcgis.com/arcgis/rest/services/World/GeocodeServer/reverseGeocode?f=pjson&location=\" + lng + \",\" + lat + \"&token=\" + os.getenv(\"API_TOKEN\")\n",
    "response = requests.get(loc_url)\n",
    "address_json = response.json()\n",
    "add_num = address_json[\"address\"][\"AddNum\"]\n",
    "street = (address_json[\"address\"][\"Address\"] if add_num == \"\" else address_json[\"address\"][\"Address\"][(len(add_num) + 1):])\n",
    "city = address_json[\"address\"][\"City\"]\n",
    "state = address_json[\"address\"][\"RegionAbbr\"]\n",
    "zipcode = address_json[\"address\"][\"Postal\"]\n",
    "street_address = ((street + \", \") if street != \"\" else \"\") + city + \", \" + state + \" \" + zipcode\n",
    "address = (street_address if add_num == \"\" else add_num + \" \" + street_address)\n",
    "print(address)"
   ]
  },
  {
   "cell_type": "markdown",
   "id": "e0bca3fe",
   "metadata": {},
   "source": [
    "### Step 3. Getting Associated Estimated Rent"
   ]
  },
  {
   "cell_type": "code",
   "execution_count": 75,
   "id": "9b598c41",
   "metadata": {},
   "outputs": [
    {
     "name": "stdout",
     "output_type": "stream",
     "text": [
      "https://www.zillow.com/homedetails/788-Glendale-Rd-Oakland-MD-21550/58259958_zpid/\n"
     ]
    }
   ],
   "source": [
    "zillow_link = [_ for _ in search(address + \" zillow\", num_results=1)]\n",
    "driver.get(address_links[0])\n",
    "\n",
    "print(address_links[0])"
   ]
  },
  {
   "cell_type": "code",
   "execution_count": 64,
   "id": "a27e9500",
   "metadata": {},
   "outputs": [
    {
     "ename": "NameError",
     "evalue": "name 'search' is not defined",
     "output_type": "error",
     "traceback": [
      "\u001b[1;31m---------------------------------------------------------------------------\u001b[0m",
      "\u001b[1;31mNameError\u001b[0m                                 Traceback (most recent call last)",
      "\u001b[1;32m~\\AppData\\Local\\Temp\\ipykernel_15836\\366705706.py\u001b[0m in \u001b[0;36m<module>\u001b[1;34m\u001b[0m\n\u001b[1;32m----> 1\u001b[1;33m \u001b[0msearch\u001b[0m\u001b[1;33m(\u001b[0m\u001b[0maddress\u001b[0m\u001b[1;33m,\u001b[0m \u001b[0mnum_results\u001b[0m\u001b[1;33m=\u001b[0m\u001b[1;36m3\u001b[0m\u001b[1;33m)\u001b[0m\u001b[1;33m\u001b[0m\u001b[1;33m\u001b[0m\u001b[0m\n\u001b[0m\u001b[0;32m      2\u001b[0m \u001b[1;33m\u001b[0m\u001b[0m\n\u001b[0;32m      3\u001b[0m \u001b[0mdriver\u001b[0m\u001b[1;33m.\u001b[0m\u001b[0mget\u001b[0m\u001b[1;33m(\u001b[0m\u001b[1;34m\"https://app.rentcast.io/app\"\u001b[0m\u001b[1;33m)\u001b[0m\u001b[1;33m\u001b[0m\u001b[1;33m\u001b[0m\u001b[0m\n\u001b[0;32m      4\u001b[0m \u001b[0melems\u001b[0m \u001b[1;33m=\u001b[0m \u001b[1;33m{\u001b[0m\u001b[1;34m\"Text\"\u001b[0m\u001b[1;33m:\u001b[0m\u001b[1;33m[\u001b[0m\u001b[1;33m]\u001b[0m\u001b[1;33m,\u001b[0m \u001b[1;34m\"Element\"\u001b[0m\u001b[1;33m:\u001b[0m\u001b[1;33m[\u001b[0m\u001b[1;33m]\u001b[0m\u001b[1;33m}\u001b[0m\u001b[1;33m\u001b[0m\u001b[1;33m\u001b[0m\u001b[0m\n\u001b[0;32m      5\u001b[0m \u001b[1;32mfor\u001b[0m \u001b[0melem\u001b[0m \u001b[1;32min\u001b[0m \u001b[0mdriver\u001b[0m\u001b[1;33m.\u001b[0m\u001b[0mfind_elements\u001b[0m\u001b[1;33m(\u001b[0m\u001b[1;34m\"class name\"\u001b[0m\u001b[1;33m,\u001b[0m \u001b[1;34m\"dropdown-item\"\u001b[0m\u001b[1;33m)\u001b[0m\u001b[1;33m:\u001b[0m\u001b[1;33m\u001b[0m\u001b[1;33m\u001b[0m\u001b[0m\n",
      "\u001b[1;31mNameError\u001b[0m: name 'search' is not defined"
     ]
    }
   ],
   "source": [
    "\n",
    "driver.get(\"https://app.rentcast.io/app\")\n",
    "elems = {\"Text\":[], \"Element\":[]}\n",
    "for elem in driver.find_elements(\"class name\", \"dropdown-item\"):\n",
    "    elems[elem.get_attribute(\"textContent\")] = elem\n",
    "driver.find_element(\"class name\", \"form-control\").send_keys(address)\n",
    "driver.find_elements(\"class name\", \"dropdown-toggle\")[3].click()\n",
    "elems[\" Apartment \"].click()\n",
    "driver.find_elements(\"class name\", \"dropdown-toggle\")[4].click()\n",
    "bedrooms = \"\"\n",
    "elems[\" \" + (((str(num_br) if num_br < 6 else \"6+\") + (\" Bed\" if num_br == 1 else \" Beds\")) if isinstance(num_br, int) else num_br) + \" \"].click()\n",
    "driver.find_elements(\"class name\", \"dropdown-toggle\")[5].click()\n",
    "elems[\" \" + (str(num_bath) if num_bath < 4 else \"4+\") + (\" Bath\" if num_bath == 1 else \" Baths\") + \" \"].click()\n",
    "driver.find_element(\"class name\", \"btn-primary\").click()\n",
    "time.sleep(3)\n",
    "test_addresses = []\n",
    "if (add_num != \"\"):\n",
    "    for i in range(4):\n",
    "        x = int(np.ceil((i+1)/2) * pow(-1,i))\n",
    "        new_add_num = int(add_num) + x\n",
    "        test_addresses.append(str(new_add_num) + \" \" + street_address)\n",
    "test_addresses.append(street_address)\n",
    "test_addresses.append(city + \", \" + state + \" \" + zipcode)\n",
    "rent_est = None\n",
    "for test_address in test_addresses:\n",
    "    if (rent_est):\n",
    "        break\n",
    "    try:\n",
    "        rent_est = get_numbers(driver.find_element(\"class name\", \"display-3\").get_attribute(\"textContent\"))\n",
    "    except:\n",
    "        driver.find_element(\"class name\", \"form-control\").clear()\n",
    "        driver.find_element(\"class name\", \"form-control\").send_keys(test_address)\n",
    "        driver.find_element(\"class name\", \"btn-primary\").click()\n",
    "        time.sleep(len(test_addresses) + 2)\n",
    "remote_location = False\n",
    "if (not rent_est):\n",
    "    state_rent_data = pd.read_csv(\"state_rent_data.csv\")\n",
    "    rent_est = round(state_rent_data.loc[state_rent_data[\"state\"] == address_json[\"address\"][\"Region\"]].iloc[0,1] * (num_br + num_bath / 3))\n",
    "    remote_location = True\n",
    "print(rent_est)"
   ]
  },
  {
   "cell_type": "markdown",
   "id": "be5c0309",
   "metadata": {},
   "source": [
    "### 4. Calculate Stay Premium and Host Profits\n"
   ]
  },
  {
   "cell_type": "code",
   "execution_count": 63,
   "id": "0ba9e82e",
   "metadata": {},
   "outputs": [
    {
     "name": "stdout",
     "output_type": "stream",
     "text": [
      "Your daily price: $285\n",
      "Estimated daily host costs: $200.06\n",
      "Estimated stay premium: 142%\n",
      "Estimated daily host profit while occupied: $84.94\n",
      "Remote location detected: estimates likely to be inaccurate\n"
     ]
    }
   ],
   "source": [
    "utl_avg = 429.33 # from https://www.forbes.com/home-improvement/living/monthly-utility-costs-by-state/\n",
    "day_rent_est = round(((rent_est + utl_avg) * 12 / 365.25),2)\n",
    "premium_perc = round(price/day_rent_est * 100)\n",
    "host_profit = round(price - day_rent_est,2)\n",
    "print(\"Your daily price: $\" + str(price))\n",
    "print(\"Estimated daily host costs: $\" + str(day_rent_est))\n",
    "print(\"Estimated stay premium: \" + str(premium_perc) + \"%\")\n",
    "print(\"Estimated daily host profit while occupied: $\" + str(host_profit))\n",
    "if (remote_location):\n",
    "    print(\"Remote location detected: estimates likely to be inaccurate\")"
   ]
  },
  {
   "cell_type": "code",
   "execution_count": null,
   "id": "0fc1025a",
   "metadata": {},
   "outputs": [],
   "source": []
  }
 ],
 "metadata": {
  "kernelspec": {
   "display_name": "Python 3 (ipykernel)",
   "language": "python",
   "name": "python3"
  },
  "language_info": {
   "codemirror_mode": {
    "name": "ipython",
    "version": 3
   },
   "file_extension": ".py",
   "mimetype": "text/x-python",
   "name": "python",
   "nbconvert_exporter": "python",
   "pygments_lexer": "ipython3",
   "version": "3.9.13"
  }
 },
 "nbformat": 4,
 "nbformat_minor": 5
}

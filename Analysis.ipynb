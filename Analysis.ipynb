{
 "cells": [
  {
   "cell_type": "markdown",
   "id": "bebc3727",
   "metadata": {},
   "source": [
    "# AirBNB Price Analyis"
   ]
  },
  {
   "cell_type": "markdown",
   "id": "ae6e1a06",
   "metadata": {},
   "source": [
    "1. Webscrape AirBNB page to find absolute location of stay\n",
    "2. Convert absolute location to address\n",
    "3. Search for address on Zillow\n",
    "4. Webscrape Zillow of stay to find Zestimate or actual price\n",
    "5. Compare AirBNB price with Zillow price, analyze the stay premium"
   ]
  },
  {
   "cell_type": "code",
   "execution_count": null,
   "id": "f7eec515",
   "metadata": {},
   "outputs": [],
   "source": []
  }
 ],
 "metadata": {
  "kernelspec": {
   "display_name": "Python 3 (ipykernel)",
   "language": "python",
   "name": "python3"
  },
  "language_info": {
   "codemirror_mode": {
    "name": "ipython",
    "version": 3
   },
   "file_extension": ".py",
   "mimetype": "text/x-python",
   "name": "python",
   "nbconvert_exporter": "python",
   "pygments_lexer": "ipython3",
   "version": "3.9.13"
  }
 },
 "nbformat": 4,
 "nbformat_minor": 5
}
